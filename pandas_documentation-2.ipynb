{
  "nbformat": 4,
  "nbformat_minor": 0,
  "metadata": {
    "colab": {
      "provenance": []
    },
    "kernelspec": {
      "name": "python3",
      "display_name": "Python 3"
    },
    "language_info": {
      "name": "python"
    }
  },
  "cells": [
    {
      "cell_type": "markdown",
      "source": [],
      "metadata": {
        "id": "fCMVk4D4acKe"
      }
    },
    {
      "cell_type": "markdown",
      "source": [
        "**Importing files from Google Drive to Colab**"
      ],
      "metadata": {
        "id": "98jONfav7yLN"
      }
    },
    {
      "cell_type": "markdown",
      "source": [
        "**Mount google drive**"
      ],
      "metadata": {
        "id": "LamCFKdjnx9T"
      }
    },
    {
      "cell_type": "code",
      "source": [
        "from google.colab import drive\n",
        "drive.mount('/content/drive')"
      ],
      "metadata": {
        "colab": {
          "base_uri": "https://localhost:8080/"
        },
        "id": "bLJBk4nnsAwF",
        "outputId": "7bcb42c9-d4da-4336-e56d-a9015559df44"
      },
      "execution_count": null,
      "outputs": [
        {
          "output_type": "stream",
          "name": "stdout",
          "text": [
            "Mounted at /content/drive\n"
          ]
        }
      ]
    },
    {
      "cell_type": "markdown",
      "source": [
        "**Other methods to fetch csv files aside to what we are going to do** (just extra information)\n"
      ],
      "metadata": {
        "id": "tys4uQENKE1f"
      }
    },
    {
      "cell_type": "markdown",
      "source": [
        "Fetch the csv file from Google Drive using the correct file ID thru URL\n",
        "\n",
        "(using the dataset Barbie.csv as an example)"
      ],
      "metadata": {
        "id": "uAyCekAq57u2"
      }
    },
    {
      "cell_type": "code",
      "source": [
        "import pandas as pd\n",
        "\n",
        "file_id = '1IMgJF4j-gwZLwfEVOKWbeT_Qd6wCbuqZ'\n",
        "url = 'https://drive.google.com/uc?id={}'.format(file_id)\n",
        "df = pd.read_csv(url)"
      ],
      "metadata": {
        "id": "h_PgQvZZ4CC5"
      },
      "execution_count": null,
      "outputs": []
    },
    {
      "cell_type": "markdown",
      "source": [
        "other way to fetch csv file thru URL"
      ],
      "metadata": {
        "id": "g3vTb--m7Iom"
      }
    },
    {
      "cell_type": "code",
      "source": [
        "#import pandas as pd\n",
        "\n",
        "#file_id = '1IMgJF4j-gwZLwfEVOKWbeT_Qd6wCbuqZ'\n",
        "#url = f'https://drive.google.com/uc?export=download&id={file_id}'\n",
        "#df = pd.read_csv(url)\n"
      ],
      "metadata": {
        "id": "IgavKAHt5lLp"
      },
      "execution_count": null,
      "outputs": []
    },
    {
      "cell_type": "code",
      "source": [
        "print(url)"
      ],
      "metadata": {
        "colab": {
          "base_uri": "https://localhost:8080/"
        },
        "id": "PPVCS-EPCNsX",
        "outputId": "1941f4b3-09aa-40a6-a3fa-b2b3d5ae3b3f"
      },
      "execution_count": null,
      "outputs": [
        {
          "output_type": "stream",
          "name": "stdout",
          "text": [
            "https://drive.google.com/uc?id=1IMgJF4j-gwZLwfEVOKWbeT_Qd6wCbuqZ\n"
          ]
        }
      ]
    },
    {
      "cell_type": "markdown",
      "source": [
        "**a way to find the file path**"
      ],
      "metadata": {
        "id": "h2CJZeCd-Uyq"
      }
    },
    {
      "cell_type": "code",
      "source": [
        "!ls '/content/drive/MyDrive/Datasets/Datasets-Yuliana/barbie.csv'"
      ],
      "metadata": {
        "colab": {
          "base_uri": "https://localhost:8080/"
        },
        "id": "gNtPmCK28fbw",
        "outputId": "1b57c348-644e-4a00-894e-ae48e37477b3"
      },
      "execution_count": null,
      "outputs": [
        {
          "output_type": "stream",
          "name": "stdout",
          "text": [
            "/content/drive/MyDrive/Datasets/Datasets-Yuliana/barbie.csv\n"
          ]
        }
      ]
    },
    {
      "cell_type": "markdown",
      "source": [
        "**Read csv file via drive**"
      ],
      "metadata": {
        "id": "E_JVu_cHDHtm"
      }
    },
    {
      "cell_type": "code",
      "source": [
        "import pandas as pd\n",
        "\n",
        "data = pd.read_csv('/content/drive/MyDrive/Datasets/Datasets-Yuliana/barbie.csv')\n",
        "print(data)"
      ],
      "metadata": {
        "colab": {
          "base_uri": "https://localhost:8080/"
        },
        "id": "UDSVfPxo-euT",
        "outputId": "5ad6ea7a-4c94-4141-865d-0139e2494743"
      },
      "execution_count": null,
      "outputs": [
        {
          "output_type": "stream",
          "name": "stdout",
          "text": [
            "        Category: All categories\n",
            "Month    Barbie: (United States)\n",
            "2004-01                       13\n",
            "2004-02                       14\n",
            "2004-03                       13\n",
            "2004-04                       11\n",
            "...                          ...\n",
            "2023-05                        9\n",
            "2023-06                       17\n",
            "2023-07                      100\n",
            "2023-08                       52\n",
            "2023-09                       29\n",
            "\n",
            "[238 rows x 1 columns]\n"
          ]
        }
      ]
    },
    {
      "cell_type": "markdown",
      "source": [
        "**Saving csv files**"
      ],
      "metadata": {
        "id": "jcaS62O3DY5s"
      }
    },
    {
      "cell_type": "markdown",
      "source": [
        "Saved as 'your_file.csv' on google colab files"
      ],
      "metadata": {
        "id": "_TtybHcFA5xk"
      }
    },
    {
      "cell_type": "code",
      "source": [
        "# Define the path where you want to save the CSV file\n",
        "csv_file_path = 'your_file.csv'\n",
        "\n",
        "# Save the DataFrame as a CSV file\n",
        "data.to_csv(csv_file_path, index=False)  # Use index=False to exclude the index column from the saved CSV"
      ],
      "metadata": {
        "id": "MrVFVtCYADsk"
      },
      "execution_count": null,
      "outputs": []
    },
    {
      "cell_type": "markdown",
      "source": [
        "Saved as 'test.csv' on google drive"
      ],
      "metadata": {
        "id": "MCM4KckYB2LZ"
      }
    },
    {
      "cell_type": "code",
      "source": [
        "#Define the path were you want to save the CSV file on google drive\n",
        "csv_file_path = '/content/drive/MyDrive/Datasets/Datasets-Yuliana/test.csv'\n",
        "\n",
        "# Save the DataFrame as a CSV file\n",
        "data.to_csv(csv_file_path, index=False)  # Use index=False to exclude the index column from the saved CSV"
      ],
      "metadata": {
        "id": "WvPf9itQBIRz"
      },
      "execution_count": null,
      "outputs": []
    },
    {
      "cell_type": "markdown",
      "source": [
        "**Possible ways from Matlab to google drive** (need to test)"
      ],
      "metadata": {
        "id": "8ZXB_uRIEYge"
      }
    },
    {
      "cell_type": "code",
      "source": [
        "#g=gdrive; # Connect to Google Drive (specify credentials as requested)\n",
        "#g.makeDir('/Test') # Make a directory called Test on Google Drive\n",
        "#g.put('filename','/Test') # Put the local file called filename into the /Test directory on Google drive."
      ],
      "metadata": {
        "id": "tWO6O1CvEMHj"
      },
      "execution_count": null,
      "outputs": []
    },
    {
      "cell_type": "code",
      "source": [
        "#% Add the path to the 'matlab-google-drive' library\n",
        "#addpath('path_to_matlab_google_drive_folder'); % Replace with the actual path\n",
        "\n",
        "#% Authenticate with Google Drive using OAuth2.0 credentials\n",
        "#client_id = 'YOUR_CLIENT_ID';\n",
        "#client_secret = 'YOUR_CLIENT_SECRET';\n",
        "#refresh_token = 'YOUR_REFRESH_TOKEN';\n",
        "\n",
        "#gd = GoogleDrive(client_id, client_secret, refresh_token);\n",
        "\n",
        "#% Set the file name and path to the CSV file you want to upload\n",
        "#csvFileName = 'your_data.csv'; % Replace with your file name\n",
        "#localFilePath = 'path_to_local_csv_file'; % Replace with the actual file path\n",
        "\n",
        "#% Upload the CSV file to Google Drive\n",
        "#file = gd.uploadFile(localFilePath, 'root', 'text/csv', csvFileName);\n",
        "\n",
        "#% Display the link to the uploaded file\n",
        "#fprintf('CSV file uploaded. Access it here: %s\\n', file.webViewLink);"
      ],
      "metadata": {
        "id": "WF-KqM8AI85O"
      },
      "execution_count": null,
      "outputs": []
    }
  ]
}